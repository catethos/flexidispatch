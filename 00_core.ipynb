{
 "cells": [
  {
   "cell_type": "code",
   "execution_count": null,
   "metadata": {},
   "outputs": [],
   "source": [
    "# default_exp core"
   ]
  },
  {
   "cell_type": "markdown",
   "metadata": {},
   "source": [
    "#  Core\n",
    "\n",
    "> API details."
   ]
  },
  {
   "cell_type": "code",
   "execution_count": null,
   "metadata": {},
   "outputs": [],
   "source": [
    "#hide\n",
    "from nbdev.showdoc import *"
   ]
  },
  {
   "cell_type": "code",
   "execution_count": null,
   "metadata": {},
   "outputs": [],
   "source": [
    "#export\n",
    "class Multimethod:\n",
    "    \"\"\"\n",
    "    Core class that dispatch the actual \n",
    "    computation to different functions \n",
    "    according to arbitary condition.\n",
    "    \"\"\"\n",
    "    def __init__(self, name, dispatch):\n",
    "        self.name = name\n",
    "        self.dispatch = dispatch\n",
    "        self.funcs = {}\n",
    "        \n",
    "    def add(self, sig):\n",
    "        def decorator(func):\n",
    "           self.funcs[sig] = func\n",
    "        return decorator\n",
    "    \n",
    "    def __call__(self, x):\n",
    "        sig = self.dispatch(x)\n",
    "        try:\n",
    "            return self.funcs[sig](x)\n",
    "        except KeyError:\n",
    "            raise Exception(f\"Not implement for {sig}\")"
   ]
  },
  {
   "cell_type": "markdown",
   "metadata": {},
   "source": [
    "![](./archi.png)"
   ]
  }
 ],
 "metadata": {
  "kernelspec": {
   "display_name": "Python 3",
   "language": "python",
   "name": "python3"
  }
 },
 "nbformat": 4,
 "nbformat_minor": 4
}
